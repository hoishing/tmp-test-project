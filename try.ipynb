{
 "cells": [
  {
   "cell_type": "code",
   "execution_count": 1,
   "metadata": {},
   "outputs": [],
   "source": [
    "import swisseph as swe\n",
    "from zoneinfo import ZoneInfo\n",
    "from datetime import datetime"
   ]
  },
  {
   "cell_type": "code",
   "execution_count": 2,
   "metadata": {},
   "outputs": [],
   "source": [
    "dt = datetime.now()\n",
    "local_tz = ZoneInfo(\"Asia/Taipei\")\n",
    "local_dt = dt.replace(tzinfo=local_tz)\n",
    "utc_dt = local_dt.astimezone(ZoneInfo(\"UTC\"))\n",
    "julian_day = swe.date_conversion(\n",
    "    utc_dt.year, utc_dt.month, utc_dt.day, utc_dt.hour + utc_dt.minute / 60\n",
    ")[1]"
   ]
  },
  {
   "cell_type": "code",
   "execution_count": 3,
   "metadata": {},
   "outputs": [
    {
     "data": {
      "text/plain": [
       "2460664.89375"
      ]
     },
     "execution_count": 3,
     "metadata": {},
     "output_type": "execute_result"
    }
   ],
   "source": [
    "julian_day"
   ]
  },
  {
   "cell_type": "code",
   "execution_count": 6,
   "metadata": {},
   "outputs": [
    {
     "name": "stdout",
     "output_type": "stream",
     "text": [
      "0 268.986415919066 1.0180282380796137\n",
      "1 150.9492915052297 12.403869779293263\n",
      "2 247.90370464545896 0.6212540214457528\n",
      "3 314.964827008129 1.1200352802201403\n",
      "4 124.93782843552957 -0.18502128991677377\n",
      "5 74.58660459195511 -0.12777224841245252\n",
      "6 343.7419620918985 0.05883889162573593\n",
      "7 53.96411376094019 -0.031881479366652164\n",
      "8 357.175791862878 0.007175545980844629\n",
      "9 300.7215061369394 0.028297014715149355\n",
      "10 2.1118080955148884 -0.052954573707114656\n",
      "15 swisseph.calc_ut: SwissEph file 'seas_18.se1' not found in PATH '/usr/share/swisseph:/usr/local/share/swisseph/'\n",
      "16 swisseph.calc_ut: SwissEph file 'seas_18.se1' not found in PATH '/usr/share/swisseph:/usr/local/share/swisseph/'\n",
      "17 swisseph.calc_ut: SwissEph file 'seas_18.se1' not found in PATH '/usr/share/swisseph:/usr/local/share/swisseph/'\n",
      "18 swisseph.calc_ut: SwissEph file 'seas_18.se1' not found in PATH '/usr/share/swisseph:/usr/local/share/swisseph/'\n",
      "19 swisseph.calc_ut: SwissEph file 'seas_18.se1' not found in PATH '/usr/share/swisseph:/usr/local/share/swisseph/'\n",
      "20 swisseph.calc_ut: SwissEph file 'seas_18.se1' not found in PATH '/usr/share/swisseph:/usr/local/share/swisseph/'\n"
     ]
    }
   ],
   "source": [
    "bodies = [\n",
    "    swe.SUN,\n",
    "    swe.MOON,\n",
    "    swe.MERCURY,\n",
    "    swe.VENUS,\n",
    "    swe.MARS,\n",
    "    swe.JUPITER,\n",
    "    swe.SATURN,\n",
    "    swe.URANUS,\n",
    "    swe.NEPTUNE,\n",
    "    swe.PLUTO,\n",
    "    swe.MEAN_NODE,\n",
    "    swe.CHIRON,\n",
    "    swe.PHOLUS,\n",
    "    swe.CERES,\n",
    "    swe.PALLAS,\n",
    "    swe.JUNO,\n",
    "    swe.VESTA,\n",
    "]\n",
    "for body in bodies:\n",
    "    try:\n",
    "        ((lon, _, _, speed, *_), _) = swe.calc_ut(julian_day, body)\n",
    "        print(body, lon, speed)\n",
    "    except Exception as e:\n",
    "        print(body, e)\n"
   ]
  },
  {
   "cell_type": "code",
   "execution_count": null,
   "metadata": {},
   "outputs": [],
   "source": []
  }
 ],
 "metadata": {
  "kernelspec": {
   "display_name": ".venv",
   "language": "python",
   "name": "python3"
  },
  "language_info": {
   "codemirror_mode": {
    "name": "ipython",
    "version": 3
   },
   "file_extension": ".py",
   "mimetype": "text/x-python",
   "name": "python",
   "nbconvert_exporter": "python",
   "pygments_lexer": "ipython3",
   "version": "3.12.8"
  }
 },
 "nbformat": 4,
 "nbformat_minor": 2
}
